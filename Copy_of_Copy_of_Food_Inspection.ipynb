{
  "nbformat": 4,
  "nbformat_minor": 0,
  "metadata": {
    "colab": {
      "name": "Copy of Copy of Food_Inspection.ipynb",
      "provenance": [],
      "include_colab_link": true
    },
    "kernelspec": {
      "name": "python3",
      "display_name": "Python 3"
    },
    "language_info": {
      "name": "python"
    }
  },
  "cells": [
    {
      "cell_type": "markdown",
      "metadata": {
        "id": "view-in-github",
        "colab_type": "text"
      },
      "source": [
        "<a href=\"https://colab.research.google.com/github/pathota7/DATA205/blob/main/Copy_of_Copy_of_Food_Inspection.ipynb\" target=\"_parent\"><img src=\"https://colab.research.google.com/assets/colab-badge.svg\" alt=\"Open In Colab\"/></a>"
      ]
    },
    {
      "cell_type": "code",
      "execution_count": null,
      "metadata": {
        "id": "zkcLq_rSDdU3"
      },
      "outputs": [],
      "source": [
        " import pandas as pd \n",
        "import numpy as np\n"
      ]
    },
    {
      "cell_type": "code",
      "source": [
        "food_inspection = pd.read_csv(\"Food_Inspection.csv\") \n",
        "food_inspection.head()"
      ],
      "metadata": {
        "colab": {
          "base_uri": "https://localhost:8080/",
          "height": 594
        },
        "id": "FCmIpw68EFFT",
        "outputId": "c57e2fbe-bf1c-42b4-b6a0-2475f3f5f108"
      },
      "execution_count": null,
      "outputs": [
        {
          "output_type": "execute_result",
          "data": {
            "text/plain": [
              "                                      Name                Address 1 Address 2  \\\n",
              "0                        CATERING BY DONIA   18777 N. FREDERICK AVE    UNIT G   \n",
              "1                          WALGREEN #19339        13870 GEORGIA AVE       NaN   \n",
              "2                   KNIGHTS OF PYTHIAS 123  11011 GAME PRESERVE RD.       NaN   \n",
              "3  LA FONDA PAISA BAKERY AND GROCERY STORE      323 MUDDY BRANCH RD       NaN   \n",
              "4                    PHOLUCIOUS RESTAURANT      10048 DARNESTOWN RD       NaN   \n",
              "\n",
              "            City    Zip Inspection Date             Inspection Results  \\\n",
              "0   GAITHERSBURG  20878      05/01/2020   No Critical Violations Noted   \n",
              "1  SILVER SPRING  20906      05/01/2020   No Critical Violations Noted   \n",
              "2   GAITHERSBURG  20879      05/01/2020   No Critical Violations Noted   \n",
              "3   GAITHERSBURG  20878      05/01/2020  Critical Violations Corrected   \n",
              "4      ROCKVILLE  20850      05/01/2020  Critical Violations Corrected   \n",
              "\n",
              "  Food from Approved Source (C) Food Protected from Contamination (C)  \\\n",
              "0                 In Compliance                         In Compliance   \n",
              "1                 In Compliance                         In Compliance   \n",
              "2                 In Compliance                         In Compliance   \n",
              "3                 In Compliance                         In Compliance   \n",
              "4                 In Compliance                         In Compliance   \n",
              "\n",
              "  Ill Workers Restricted (C)  ... Rodent and Insects Nutritional Labeling  \\\n",
              "0              In Compliance  ...      In Compliance       Not applicable   \n",
              "1              In Compliance  ...      In Compliance       Not applicable   \n",
              "2              In Compliance  ...      In Compliance       Not applicable   \n",
              "3              In Compliance  ...      In Compliance       Not applicable   \n",
              "4              In Compliance  ...      In Compliance       Not applicable   \n",
              "\n",
              "   Trans Fat Ban No-Smoking Sign Posted Inspection Type  \\\n",
              "0  In Compliance          In Compliance   Environmental   \n",
              "1  In Compliance          In Compliance           Other   \n",
              "2  In Compliance          In Compliance   Environmental   \n",
              "3  In Compliance          In Compliance      Monitoring   \n",
              "4  In Compliance          In Compliance      Monitoring   \n",
              "\n",
              "                     Owner    Category  Type Latitude Longitude  \n",
              "0        CATERING BY DONIA     Caterer  Food  39.1657  -77.2260  \n",
              "1              WALGREEN CO      Market  Food  39.0819  -77.0777  \n",
              "2  KNIGHTS OF PYTHIAS INC.  Non-Profit  Food  39.1644  -77.2292  \n",
              "3             LA FONDA LLC      Market  Food  39.1275  -77.2089  \n",
              "4            HAPPY HUB INC  Restaurant  Food  39.0956  -77.2071  \n",
              "\n",
              "[5 rows x 29 columns]"
            ],
            "text/html": [
              "\n",
              "  <div id=\"df-ef231fda-3419-4bb4-9733-3c31ef9df8df\">\n",
              "    <div class=\"colab-df-container\">\n",
              "      <div>\n",
              "<style scoped>\n",
              "    .dataframe tbody tr th:only-of-type {\n",
              "        vertical-align: middle;\n",
              "    }\n",
              "\n",
              "    .dataframe tbody tr th {\n",
              "        vertical-align: top;\n",
              "    }\n",
              "\n",
              "    .dataframe thead th {\n",
              "        text-align: right;\n",
              "    }\n",
              "</style>\n",
              "<table border=\"1\" class=\"dataframe\">\n",
              "  <thead>\n",
              "    <tr style=\"text-align: right;\">\n",
              "      <th></th>\n",
              "      <th>Name</th>\n",
              "      <th>Address 1</th>\n",
              "      <th>Address 2</th>\n",
              "      <th>City</th>\n",
              "      <th>Zip</th>\n",
              "      <th>Inspection Date</th>\n",
              "      <th>Inspection Results</th>\n",
              "      <th>Food from Approved Source (C)</th>\n",
              "      <th>Food Protected from Contamination (C)</th>\n",
              "      <th>Ill Workers Restricted (C)</th>\n",
              "      <th>...</th>\n",
              "      <th>Rodent and Insects</th>\n",
              "      <th>Nutritional Labeling</th>\n",
              "      <th>Trans Fat Ban</th>\n",
              "      <th>No-Smoking Sign Posted</th>\n",
              "      <th>Inspection Type</th>\n",
              "      <th>Owner</th>\n",
              "      <th>Category</th>\n",
              "      <th>Type</th>\n",
              "      <th>Latitude</th>\n",
              "      <th>Longitude</th>\n",
              "    </tr>\n",
              "  </thead>\n",
              "  <tbody>\n",
              "    <tr>\n",
              "      <th>0</th>\n",
              "      <td>CATERING BY DONIA</td>\n",
              "      <td>18777 N. FREDERICK AVE</td>\n",
              "      <td>UNIT G</td>\n",
              "      <td>GAITHERSBURG</td>\n",
              "      <td>20878</td>\n",
              "      <td>05/01/2020</td>\n",
              "      <td>No Critical Violations Noted</td>\n",
              "      <td>In Compliance</td>\n",
              "      <td>In Compliance</td>\n",
              "      <td>In Compliance</td>\n",
              "      <td>...</td>\n",
              "      <td>In Compliance</td>\n",
              "      <td>Not applicable</td>\n",
              "      <td>In Compliance</td>\n",
              "      <td>In Compliance</td>\n",
              "      <td>Environmental</td>\n",
              "      <td>CATERING BY DONIA</td>\n",
              "      <td>Caterer</td>\n",
              "      <td>Food</td>\n",
              "      <td>39.1657</td>\n",
              "      <td>-77.2260</td>\n",
              "    </tr>\n",
              "    <tr>\n",
              "      <th>1</th>\n",
              "      <td>WALGREEN #19339</td>\n",
              "      <td>13870 GEORGIA AVE</td>\n",
              "      <td>NaN</td>\n",
              "      <td>SILVER SPRING</td>\n",
              "      <td>20906</td>\n",
              "      <td>05/01/2020</td>\n",
              "      <td>No Critical Violations Noted</td>\n",
              "      <td>In Compliance</td>\n",
              "      <td>In Compliance</td>\n",
              "      <td>In Compliance</td>\n",
              "      <td>...</td>\n",
              "      <td>In Compliance</td>\n",
              "      <td>Not applicable</td>\n",
              "      <td>In Compliance</td>\n",
              "      <td>In Compliance</td>\n",
              "      <td>Other</td>\n",
              "      <td>WALGREEN CO</td>\n",
              "      <td>Market</td>\n",
              "      <td>Food</td>\n",
              "      <td>39.0819</td>\n",
              "      <td>-77.0777</td>\n",
              "    </tr>\n",
              "    <tr>\n",
              "      <th>2</th>\n",
              "      <td>KNIGHTS OF PYTHIAS 123</td>\n",
              "      <td>11011 GAME PRESERVE RD.</td>\n",
              "      <td>NaN</td>\n",
              "      <td>GAITHERSBURG</td>\n",
              "      <td>20879</td>\n",
              "      <td>05/01/2020</td>\n",
              "      <td>No Critical Violations Noted</td>\n",
              "      <td>In Compliance</td>\n",
              "      <td>In Compliance</td>\n",
              "      <td>In Compliance</td>\n",
              "      <td>...</td>\n",
              "      <td>In Compliance</td>\n",
              "      <td>Not applicable</td>\n",
              "      <td>In Compliance</td>\n",
              "      <td>In Compliance</td>\n",
              "      <td>Environmental</td>\n",
              "      <td>KNIGHTS OF PYTHIAS INC.</td>\n",
              "      <td>Non-Profit</td>\n",
              "      <td>Food</td>\n",
              "      <td>39.1644</td>\n",
              "      <td>-77.2292</td>\n",
              "    </tr>\n",
              "    <tr>\n",
              "      <th>3</th>\n",
              "      <td>LA FONDA PAISA BAKERY AND GROCERY STORE</td>\n",
              "      <td>323 MUDDY BRANCH RD</td>\n",
              "      <td>NaN</td>\n",
              "      <td>GAITHERSBURG</td>\n",
              "      <td>20878</td>\n",
              "      <td>05/01/2020</td>\n",
              "      <td>Critical Violations Corrected</td>\n",
              "      <td>In Compliance</td>\n",
              "      <td>In Compliance</td>\n",
              "      <td>In Compliance</td>\n",
              "      <td>...</td>\n",
              "      <td>In Compliance</td>\n",
              "      <td>Not applicable</td>\n",
              "      <td>In Compliance</td>\n",
              "      <td>In Compliance</td>\n",
              "      <td>Monitoring</td>\n",
              "      <td>LA FONDA LLC</td>\n",
              "      <td>Market</td>\n",
              "      <td>Food</td>\n",
              "      <td>39.1275</td>\n",
              "      <td>-77.2089</td>\n",
              "    </tr>\n",
              "    <tr>\n",
              "      <th>4</th>\n",
              "      <td>PHOLUCIOUS RESTAURANT</td>\n",
              "      <td>10048 DARNESTOWN RD</td>\n",
              "      <td>NaN</td>\n",
              "      <td>ROCKVILLE</td>\n",
              "      <td>20850</td>\n",
              "      <td>05/01/2020</td>\n",
              "      <td>Critical Violations Corrected</td>\n",
              "      <td>In Compliance</td>\n",
              "      <td>In Compliance</td>\n",
              "      <td>In Compliance</td>\n",
              "      <td>...</td>\n",
              "      <td>In Compliance</td>\n",
              "      <td>Not applicable</td>\n",
              "      <td>In Compliance</td>\n",
              "      <td>In Compliance</td>\n",
              "      <td>Monitoring</td>\n",
              "      <td>HAPPY HUB INC</td>\n",
              "      <td>Restaurant</td>\n",
              "      <td>Food</td>\n",
              "      <td>39.0956</td>\n",
              "      <td>-77.2071</td>\n",
              "    </tr>\n",
              "  </tbody>\n",
              "</table>\n",
              "<p>5 rows × 29 columns</p>\n",
              "</div>\n",
              "      <button class=\"colab-df-convert\" onclick=\"convertToInteractive('df-ef231fda-3419-4bb4-9733-3c31ef9df8df')\"\n",
              "              title=\"Convert this dataframe to an interactive table.\"\n",
              "              style=\"display:none;\">\n",
              "        \n",
              "  <svg xmlns=\"http://www.w3.org/2000/svg\" height=\"24px\"viewBox=\"0 0 24 24\"\n",
              "       width=\"24px\">\n",
              "    <path d=\"M0 0h24v24H0V0z\" fill=\"none\"/>\n",
              "    <path d=\"M18.56 5.44l.94 2.06.94-2.06 2.06-.94-2.06-.94-.94-2.06-.94 2.06-2.06.94zm-11 1L8.5 8.5l.94-2.06 2.06-.94-2.06-.94L8.5 2.5l-.94 2.06-2.06.94zm10 10l.94 2.06.94-2.06 2.06-.94-2.06-.94-.94-2.06-.94 2.06-2.06.94z\"/><path d=\"M17.41 7.96l-1.37-1.37c-.4-.4-.92-.59-1.43-.59-.52 0-1.04.2-1.43.59L10.3 9.45l-7.72 7.72c-.78.78-.78 2.05 0 2.83L4 21.41c.39.39.9.59 1.41.59.51 0 1.02-.2 1.41-.59l7.78-7.78 2.81-2.81c.8-.78.8-2.07 0-2.86zM5.41 20L4 18.59l7.72-7.72 1.47 1.35L5.41 20z\"/>\n",
              "  </svg>\n",
              "      </button>\n",
              "      \n",
              "  <style>\n",
              "    .colab-df-container {\n",
              "      display:flex;\n",
              "      flex-wrap:wrap;\n",
              "      gap: 12px;\n",
              "    }\n",
              "\n",
              "    .colab-df-convert {\n",
              "      background-color: #E8F0FE;\n",
              "      border: none;\n",
              "      border-radius: 50%;\n",
              "      cursor: pointer;\n",
              "      display: none;\n",
              "      fill: #1967D2;\n",
              "      height: 32px;\n",
              "      padding: 0 0 0 0;\n",
              "      width: 32px;\n",
              "    }\n",
              "\n",
              "    .colab-df-convert:hover {\n",
              "      background-color: #E2EBFA;\n",
              "      box-shadow: 0px 1px 2px rgba(60, 64, 67, 0.3), 0px 1px 3px 1px rgba(60, 64, 67, 0.15);\n",
              "      fill: #174EA6;\n",
              "    }\n",
              "\n",
              "    [theme=dark] .colab-df-convert {\n",
              "      background-color: #3B4455;\n",
              "      fill: #D2E3FC;\n",
              "    }\n",
              "\n",
              "    [theme=dark] .colab-df-convert:hover {\n",
              "      background-color: #434B5C;\n",
              "      box-shadow: 0px 1px 3px 1px rgba(0, 0, 0, 0.15);\n",
              "      filter: drop-shadow(0px 1px 2px rgba(0, 0, 0, 0.3));\n",
              "      fill: #FFFFFF;\n",
              "    }\n",
              "  </style>\n",
              "\n",
              "      <script>\n",
              "        const buttonEl =\n",
              "          document.querySelector('#df-ef231fda-3419-4bb4-9733-3c31ef9df8df button.colab-df-convert');\n",
              "        buttonEl.style.display =\n",
              "          google.colab.kernel.accessAllowed ? 'block' : 'none';\n",
              "\n",
              "        async function convertToInteractive(key) {\n",
              "          const element = document.querySelector('#df-ef231fda-3419-4bb4-9733-3c31ef9df8df');\n",
              "          const dataTable =\n",
              "            await google.colab.kernel.invokeFunction('convertToInteractive',\n",
              "                                                     [key], {});\n",
              "          if (!dataTable) return;\n",
              "\n",
              "          const docLinkHtml = 'Like what you see? Visit the ' +\n",
              "            '<a target=\"_blank\" href=https://colab.research.google.com/notebooks/data_table.ipynb>data table notebook</a>'\n",
              "            + ' to learn more about interactive tables.';\n",
              "          element.innerHTML = '';\n",
              "          dataTable['output_type'] = 'display_data';\n",
              "          await google.colab.output.renderOutput(dataTable, element);\n",
              "          const docLink = document.createElement('div');\n",
              "          docLink.innerHTML = docLinkHtml;\n",
              "          element.appendChild(docLink);\n",
              "        }\n",
              "      </script>\n",
              "    </div>\n",
              "  </div>\n",
              "  "
            ]
          },
          "metadata": {},
          "execution_count": 24
        }
      ]
    },
    {
      "cell_type": "code",
      "source": [
        ""
      ],
      "metadata": {
        "id": "xaeXoLT5I6Vi"
      },
      "execution_count": null,
      "outputs": []
    },
    {
      "cell_type": "code",
      "source": [
        "food_inspection.info()"
      ],
      "metadata": {
        "colab": {
          "base_uri": "https://localhost:8080/"
        },
        "id": "_MlnI45eEYX6",
        "outputId": "49e8877b-9407-4dd3-da4c-6d10d77be178"
      },
      "execution_count": null,
      "outputs": [
        {
          "output_type": "stream",
          "name": "stdout",
          "text": [
            "<class 'pandas.core.frame.DataFrame'>\n",
            "RangeIndex: 12890 entries, 0 to 12889\n",
            "Data columns (total 29 columns):\n",
            " #   Column                                   Non-Null Count  Dtype  \n",
            "---  ------                                   --------------  -----  \n",
            " 0   Name                                     12890 non-null  object \n",
            " 1   Address 1                                12890 non-null  object \n",
            " 2   Address 2                                993 non-null    object \n",
            " 3   City                                     12890 non-null  object \n",
            " 4   Zip                                      12890 non-null  int64  \n",
            " 5   Inspection Date                          12890 non-null  object \n",
            " 6   Inspection Results                       12890 non-null  object \n",
            " 7   Food from Approved Source (C)            12890 non-null  object \n",
            " 8   Food Protected from Contamination (C)    12890 non-null  object \n",
            " 9   Ill Workers Restricted (C)               12890 non-null  object \n",
            " 10  Proper Hand Washing (C)                  12890 non-null  object \n",
            " 11  Cooling Time and Temperature (C)         12890 non-null  object \n",
            " 12  Cold Holding Temperature (C)             12890 non-null  object \n",
            " 13  Hot Holding Temperature (C)              12890 non-null  object \n",
            " 14  Cooking Time and Temperature (C)         12890 non-null  object \n",
            " 15  Reheating Time and Temperature (C)       12890 non-null  object \n",
            " 16  Hot and Cold Running Water Provided (C)  12890 non-null  object \n",
            " 17  Proper Sewage Disposal (C)               12890 non-null  object \n",
            " 18  Toxic Substances & Pesticides            12890 non-null  object \n",
            " 19  Rodent and Insects                       12890 non-null  object \n",
            " 20  Nutritional Labeling                     12890 non-null  object \n",
            " 21  Trans Fat Ban                            12890 non-null  object \n",
            " 22  No-Smoking Sign Posted                   12890 non-null  object \n",
            " 23  Inspection Type                          12811 non-null  object \n",
            " 24  Owner                                    12883 non-null  object \n",
            " 25  Category                                 12337 non-null  object \n",
            " 26  Type                                     12890 non-null  object \n",
            " 27  Latitude                                 12870 non-null  float64\n",
            " 28  Longitude                                12870 non-null  float64\n",
            "dtypes: float64(2), int64(1), object(26)\n",
            "memory usage: 2.9+ MB\n"
          ]
        }
      ]
    },
    {
      "cell_type": "code",
      "source": [
        "food_inspection.shape"
      ],
      "metadata": {
        "colab": {
          "base_uri": "https://localhost:8080/"
        },
        "id": "yeTR3hD3Ep2Z",
        "outputId": "7f5b11ef-f570-4ac8-9d2e-a56dce2c0c88"
      },
      "execution_count": null,
      "outputs": [
        {
          "output_type": "execute_result",
          "data": {
            "text/plain": [
              "(12890, 29)"
            ]
          },
          "metadata": {},
          "execution_count": 26
        }
      ]
    },
    {
      "cell_type": "markdown",
      "source": [
        "Which city have the most food inspections? \n"
      ],
      "metadata": {
        "id": "wMtQrXqgFHEx"
      }
    },
    {
      "cell_type": "code",
      "source": [
        "food_inspection[\"City\"].value_counts().head(5) \n"
      ],
      "metadata": {
        "colab": {
          "base_uri": "https://localhost:8080/"
        },
        "id": "XXiCSBXVFYSz",
        "outputId": "c69b5263-fef2-49d3-9119-a9121478a01a"
      },
      "execution_count": null,
      "outputs": [
        {
          "output_type": "execute_result",
          "data": {
            "text/plain": [
              "SILVER SPRING    2918\n",
              "GAITHERSBURG     2404\n",
              "ROCKVILLE        2227\n",
              "BETHESDA         1504\n",
              "GERMANTOWN       1122\n",
              "Name: City, dtype: int64"
            ]
          },
          "metadata": {},
          "execution_count": 27
        }
      ]
    },
    {
      "cell_type": "markdown",
      "source": [
        "What are the most common categories?\n"
      ],
      "metadata": {
        "id": "VO0xyY7mGfny"
      }
    },
    {
      "cell_type": "code",
      "source": [
        "food_inspection[\"Category\"].value_counts().head(5) "
      ],
      "metadata": {
        "colab": {
          "base_uri": "https://localhost:8080/"
        },
        "id": "l0VwaQn9GTE1",
        "outputId": "e8d5a0c0-0314-439c-f9ed-ec6fce538f06"
      },
      "execution_count": null,
      "outputs": [
        {
          "output_type": "execute_result",
          "data": {
            "text/plain": [
              "Restaurant                   7567\n",
              "Market                       3295\n",
              "Carry Out                     294\n",
              "Public School- Elementary     271\n",
              "Caterer                       205\n",
              "Name: Category, dtype: int64"
            ]
          },
          "metadata": {},
          "execution_count": 28
        }
      ]
    },
    {
      "cell_type": "markdown",
      "source": [
        "Under which Owner has the most food inspections? \n"
      ],
      "metadata": {
        "id": "hT7VTj34kEbi"
      }
    },
    {
      "cell_type": "code",
      "source": [
        "food_inspection[\"Owner\"].value_counts().head(5)"
      ],
      "metadata": {
        "colab": {
          "base_uri": "https://localhost:8080/"
        },
        "id": "fiU97nClkWsP",
        "outputId": "cb634055-a2d8-431a-888a-1ddd42f79a60"
      },
      "execution_count": null,
      "outputs": [
        {
          "output_type": "execute_result",
          "data": {
            "text/plain": [
              "MONTGOMERY COUNTY PUBLIC SCHOOLS          395\n",
              "GIANT OF MARYLAND, LLC                    137\n",
              "STARBUCKS CORP LICENSE SERVICE            121\n",
              "NAI SATURN EASTERN LLC                    119\n",
              "CHIPOTLE MEXICAN GRILL OF COLORADO LLC     85\n",
              "Name: Owner, dtype: int64"
            ]
          },
          "metadata": {},
          "execution_count": 30
        }
      ]
    },
    {
      "cell_type": "markdown",
      "source": [
        "Which zip code has the least amount of food inspections running? "
      ],
      "metadata": {
        "id": "AYY5ELrn7R20"
      }
    },
    {
      "cell_type": "code",
      "source": [
        "food_inspection[\"Zip\"].value_counts().head(5)"
      ],
      "metadata": {
        "colab": {
          "base_uri": "https://localhost:8080/"
        },
        "id": "duTBy3bN6Ixk",
        "outputId": "bc47da0f-48e1-4e61-b6e4-aa8aaf2597eb"
      },
      "execution_count": null,
      "outputs": [
        {
          "output_type": "execute_result",
          "data": {
            "text/plain": [
              "20910    1135\n",
              "20852    1017\n",
              "20814     976\n",
              "20850     947\n",
              "20877     889\n",
              "Name: Zip, dtype: int64"
            ]
          },
          "metadata": {},
          "execution_count": 35
        }
      ]
    },
    {
      "cell_type": "markdown",
      "source": [
        "In Adress 1, what are the top 5 adresses that have the most food inspections?"
      ],
      "metadata": {
        "id": "joMAy5Vj-pJp"
      }
    },
    {
      "cell_type": "code",
      "source": [
        "food_inspection[\"Address 1\"].value_counts().head(5)"
      ],
      "metadata": {
        "colab": {
          "base_uri": "https://localhost:8080/"
        },
        "id": "DN8JqEVz-oyr",
        "outputId": "39561997-648a-4010-82cc-2dd7bf3ca5e9"
      },
      "execution_count": null,
      "outputs": [
        {
          "output_type": "execute_result",
          "data": {
            "text/plain": [
              "7101 DEMOCRACY BLVD     120\n",
              "11160 VEIRS MILL RD      62\n",
              "22705 CLARKSBURG RD      47\n",
              "7101 DEMOCRACY BLVD.     39\n",
              "12613 WISTERIA DR.       31\n",
              "Name: Address 1, dtype: int64"
            ]
          },
          "metadata": {},
          "execution_count": 32
        }
      ]
    },
    {
      "cell_type": "markdown",
      "source": [
        "What is the Name of the store that has the most amount of food inspections?"
      ],
      "metadata": {
        "id": "UB8jtFaU_cdU"
      }
    },
    {
      "cell_type": "code",
      "source": [
        "food_inspection[\"Name\"].value_counts().head(5)"
      ],
      "metadata": {
        "colab": {
          "base_uri": "https://localhost:8080/"
        },
        "id": "_x8kZl_w_hPI",
        "outputId": "116956dc-ea20-4e9d-d291-fcbb0a36ade9"
      },
      "execution_count": null,
      "outputs": [
        {
          "output_type": "execute_result",
          "data": {
            "text/plain": [
              "POPEYES             62\n",
              "PIZZA HUT           34\n",
              "CHICK-FIL-A         31\n",
              "CAVA MEZZE GRILL    30\n",
              "SUBWAY              26\n",
              "Name: Name, dtype: int64"
            ]
          },
          "metadata": {},
          "execution_count": 34
        }
      ]
    },
    {
      "cell_type": "markdown",
      "source": [
        "What is the longitude of highest stores with the most food inspections?"
      ],
      "metadata": {
        "id": "2UxTwufjATuc"
      }
    },
    {
      "cell_type": "code",
      "source": [
        "food_inspection[\"Longitude\"].value_counts().head(5)"
      ],
      "metadata": {
        "colab": {
          "base_uri": "https://localhost:8080/"
        },
        "id": "UxF_9xhWATfQ",
        "outputId": "6650acd4-2f8b-41aa-bb1b-e70226cc0adf"
      },
      "execution_count": null,
      "outputs": [
        {
          "output_type": "execute_result",
          "data": {
            "text/plain": [
              "-77.0262    81\n",
              "-77.0539    62\n",
              "-77.0263    60\n",
              "-77.1486    58\n",
              "-77.0968    57\n",
              "Name: Longitude, dtype: int64"
            ]
          },
          "metadata": {},
          "execution_count": 36
        }
      ]
    },
    {
      "cell_type": "markdown",
      "source": [
        "What is the latitude of the amount of stores with the most amount of food inspections?"
      ],
      "metadata": {
        "id": "suBSCy55AriZ"
      }
    },
    {
      "cell_type": "code",
      "source": [
        "food_inspection[\"Latitude\"].value_counts().head(5)"
      ],
      "metadata": {
        "colab": {
          "base_uri": "https://localhost:8080/"
        },
        "id": "4VYse96OArTq",
        "outputId": "a3799790-e046-45e4-9580-8f70d2fb5161"
      },
      "execution_count": null,
      "outputs": [
        {
          "output_type": "execute_result",
          "data": {
            "text/plain": [
              "39.0233    66\n",
              "39.0370    63\n",
              "39.2296    58\n",
              "39.1706    53\n",
              "39.0221    49\n",
              "Name: Latitude, dtype: int64"
            ]
          },
          "metadata": {},
          "execution_count": 38
        }
      ]
    }
  ]
}