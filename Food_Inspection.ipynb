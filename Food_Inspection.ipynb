{
  "nbformat": 4,
  "nbformat_minor": 0,
  "metadata": {
    "colab": {
      "name": "Food_Inspection",
      "provenance": []
    },
    "kernelspec": {
      "name": "python3",
      "display_name": "Python 3"
    },
    "language_info": {
      "name": "python"
    }
  },
  "cells": [
    {
      "cell_type": "code",
      "execution_count": 3,
      "metadata": {
        "id": "zkcLq_rSDdU3"
      },
      "outputs": [],
      "source": [
        "import pandas as pd \n",
        "import numpy as np\n"
      ]
    },
    {
      "cell_type": "code",
      "source": [
        "food_inspection = pd.read_csv(\"Food_Inspection.csv\") \n",
        "food_inspection.head()"
      ],
      "metadata": {
        "colab": {
          "base_uri": "https://localhost:8080/",
          "height": 582
        },
        "id": "FCmIpw68EFFT",
        "outputId": "519f9442-966d-4066-fc06-acf276248170"
      },
      "execution_count": 5,
      "outputs": [
        {
          "output_type": "execute_result",
          "data": {
            "text/html": [
              "\n",
              "  <div id=\"df-2ef4002b-8cec-4c98-8f2b-d6778045d911\">\n",
              "    <div class=\"colab-df-container\">\n",
              "      <div>\n",
              "<style scoped>\n",
              "    .dataframe tbody tr th:only-of-type {\n",
              "        vertical-align: middle;\n",
              "    }\n",
              "\n",
              "    .dataframe tbody tr th {\n",
              "        vertical-align: top;\n",
              "    }\n",
              "\n",
              "    .dataframe thead th {\n",
              "        text-align: right;\n",
              "    }\n",
              "</style>\n",
              "<table border=\"1\" class=\"dataframe\">\n",
              "  <thead>\n",
              "    <tr style=\"text-align: right;\">\n",
              "      <th></th>\n",
              "      <th>Establishment ID</th>\n",
              "      <th>Name</th>\n",
              "      <th>Address 1</th>\n",
              "      <th>Address 2</th>\n",
              "      <th>City</th>\n",
              "      <th>Zip</th>\n",
              "      <th>Inspection Date</th>\n",
              "      <th>Inspection Results</th>\n",
              "      <th>Food from Approved Source (C)</th>\n",
              "      <th>Food Protected from Contamination (C)</th>\n",
              "      <th>Ill Workers Restricted (C)</th>\n",
              "      <th>Proper Hand Washing (C)</th>\n",
              "      <th>Cooling Time and Temperature (C)</th>\n",
              "      <th>Cold Holding Temperature (C)</th>\n",
              "      <th>Hot Holding Temperature (C)</th>\n",
              "      <th>Cooking Time and Temperature (C)</th>\n",
              "      <th>Reheating Time and Temperature (C)</th>\n",
              "      <th>Hot and Cold Running Water Provided (C)</th>\n",
              "      <th>Proper Sewage Disposal (C)</th>\n",
              "      <th>Toxic Substances &amp; Pesticides</th>\n",
              "      <th>Rodent and Insects</th>\n",
              "      <th>Nutritional Labeling</th>\n",
              "      <th>Trans Fat Ban</th>\n",
              "      <th>No-Smoking Sign Posted</th>\n",
              "      <th>Inspection Type</th>\n",
              "      <th>Owner</th>\n",
              "      <th>Category</th>\n",
              "      <th>Type</th>\n",
              "      <th>Latitude</th>\n",
              "      <th>Longitude</th>\n",
              "      <th>Location</th>\n",
              "    </tr>\n",
              "  </thead>\n",
              "  <tbody>\n",
              "    <tr>\n",
              "      <th>0</th>\n",
              "      <td>26656</td>\n",
              "      <td>CATERING BY DONIA</td>\n",
              "      <td>18777 N. FREDERICK AVE</td>\n",
              "      <td>UNIT G</td>\n",
              "      <td>GAITHERSBURG</td>\n",
              "      <td>20878</td>\n",
              "      <td>5/1/2020</td>\n",
              "      <td>No Critical Violations Noted</td>\n",
              "      <td>In Compliance</td>\n",
              "      <td>In Compliance</td>\n",
              "      <td>In Compliance</td>\n",
              "      <td>In Compliance</td>\n",
              "      <td>In Compliance</td>\n",
              "      <td>In Compliance</td>\n",
              "      <td>In Compliance</td>\n",
              "      <td>In Compliance</td>\n",
              "      <td>In Compliance</td>\n",
              "      <td>In Compliance</td>\n",
              "      <td>In Compliance</td>\n",
              "      <td>In Compliance</td>\n",
              "      <td>In Compliance</td>\n",
              "      <td>Not applicable</td>\n",
              "      <td>In Compliance</td>\n",
              "      <td>In Compliance</td>\n",
              "      <td>Environmental</td>\n",
              "      <td>CATERING BY DONIA</td>\n",
              "      <td>Caterer</td>\n",
              "      <td>Food</td>\n",
              "      <td>39.1657</td>\n",
              "      <td>-77.2260</td>\n",
              "      <td>(39.1657, -77.226)</td>\n",
              "    </tr>\n",
              "    <tr>\n",
              "      <th>1</th>\n",
              "      <td>33103</td>\n",
              "      <td>WALGREEN #19339</td>\n",
              "      <td>13870 GEORGIA AVE</td>\n",
              "      <td>NaN</td>\n",
              "      <td>SILVER SPRING</td>\n",
              "      <td>20906</td>\n",
              "      <td>5/1/2020</td>\n",
              "      <td>No Critical Violations Noted</td>\n",
              "      <td>In Compliance</td>\n",
              "      <td>In Compliance</td>\n",
              "      <td>In Compliance</td>\n",
              "      <td>In Compliance</td>\n",
              "      <td>In Compliance</td>\n",
              "      <td>In Compliance</td>\n",
              "      <td>In Compliance</td>\n",
              "      <td>In Compliance</td>\n",
              "      <td>In Compliance</td>\n",
              "      <td>In Compliance</td>\n",
              "      <td>In Compliance</td>\n",
              "      <td>In Compliance</td>\n",
              "      <td>In Compliance</td>\n",
              "      <td>Not applicable</td>\n",
              "      <td>In Compliance</td>\n",
              "      <td>In Compliance</td>\n",
              "      <td>Other</td>\n",
              "      <td>WALGREEN CO</td>\n",
              "      <td>Market</td>\n",
              "      <td>Food</td>\n",
              "      <td>39.0819</td>\n",
              "      <td>-77.0777</td>\n",
              "      <td>(39.0819, -77.0777)</td>\n",
              "    </tr>\n",
              "    <tr>\n",
              "      <th>2</th>\n",
              "      <td>1392</td>\n",
              "      <td>KNIGHTS OF PYTHIAS 123</td>\n",
              "      <td>11011 GAME PRESERVE RD.</td>\n",
              "      <td>NaN</td>\n",
              "      <td>GAITHERSBURG</td>\n",
              "      <td>20879</td>\n",
              "      <td>5/1/2020</td>\n",
              "      <td>No Critical Violations Noted</td>\n",
              "      <td>In Compliance</td>\n",
              "      <td>In Compliance</td>\n",
              "      <td>In Compliance</td>\n",
              "      <td>In Compliance</td>\n",
              "      <td>In Compliance</td>\n",
              "      <td>In Compliance</td>\n",
              "      <td>In Compliance</td>\n",
              "      <td>In Compliance</td>\n",
              "      <td>In Compliance</td>\n",
              "      <td>In Compliance</td>\n",
              "      <td>In Compliance</td>\n",
              "      <td>In Compliance</td>\n",
              "      <td>In Compliance</td>\n",
              "      <td>Not applicable</td>\n",
              "      <td>In Compliance</td>\n",
              "      <td>In Compliance</td>\n",
              "      <td>Environmental</td>\n",
              "      <td>KNIGHTS OF PYTHIAS INC.</td>\n",
              "      <td>Non-Profit</td>\n",
              "      <td>Food</td>\n",
              "      <td>39.1644</td>\n",
              "      <td>-77.2292</td>\n",
              "      <td>(39.1644, -77.2292)</td>\n",
              "    </tr>\n",
              "    <tr>\n",
              "      <th>3</th>\n",
              "      <td>33477</td>\n",
              "      <td>LA FONDA PAISA BAKERY AND GROCERY STORE</td>\n",
              "      <td>323 MUDDY BRANCH RD</td>\n",
              "      <td>NaN</td>\n",
              "      <td>GAITHERSBURG</td>\n",
              "      <td>20878</td>\n",
              "      <td>5/1/2020</td>\n",
              "      <td>Critical Violations Corrected</td>\n",
              "      <td>In Compliance</td>\n",
              "      <td>In Compliance</td>\n",
              "      <td>In Compliance</td>\n",
              "      <td>In Compliance</td>\n",
              "      <td>Out of Compliance</td>\n",
              "      <td>In Compliance</td>\n",
              "      <td>In Compliance</td>\n",
              "      <td>In Compliance</td>\n",
              "      <td>In Compliance</td>\n",
              "      <td>In Compliance</td>\n",
              "      <td>In Compliance</td>\n",
              "      <td>In Compliance</td>\n",
              "      <td>In Compliance</td>\n",
              "      <td>Not applicable</td>\n",
              "      <td>In Compliance</td>\n",
              "      <td>In Compliance</td>\n",
              "      <td>Monitoring</td>\n",
              "      <td>LA FONDA LLC</td>\n",
              "      <td>Market</td>\n",
              "      <td>Food</td>\n",
              "      <td>39.1275</td>\n",
              "      <td>-77.2089</td>\n",
              "      <td>(39.1275, -77.2089)</td>\n",
              "    </tr>\n",
              "    <tr>\n",
              "      <th>4</th>\n",
              "      <td>24239</td>\n",
              "      <td>PHOLUCIOUS RESTAURANT</td>\n",
              "      <td>10048 DARNESTOWN RD</td>\n",
              "      <td>NaN</td>\n",
              "      <td>ROCKVILLE</td>\n",
              "      <td>20850</td>\n",
              "      <td>5/1/2020</td>\n",
              "      <td>Critical Violations Corrected</td>\n",
              "      <td>In Compliance</td>\n",
              "      <td>In Compliance</td>\n",
              "      <td>In Compliance</td>\n",
              "      <td>In Compliance</td>\n",
              "      <td>In Compliance</td>\n",
              "      <td>Out of Compliance</td>\n",
              "      <td>In Compliance</td>\n",
              "      <td>In Compliance</td>\n",
              "      <td>In Compliance</td>\n",
              "      <td>In Compliance</td>\n",
              "      <td>In Compliance</td>\n",
              "      <td>In Compliance</td>\n",
              "      <td>In Compliance</td>\n",
              "      <td>Not applicable</td>\n",
              "      <td>In Compliance</td>\n",
              "      <td>In Compliance</td>\n",
              "      <td>Monitoring</td>\n",
              "      <td>HAPPY HUB INC</td>\n",
              "      <td>Restaurant</td>\n",
              "      <td>Food</td>\n",
              "      <td>39.0956</td>\n",
              "      <td>-77.2071</td>\n",
              "      <td>(39.0956, -77.2071)</td>\n",
              "    </tr>\n",
              "  </tbody>\n",
              "</table>\n",
              "</div>\n",
              "      <button class=\"colab-df-convert\" onclick=\"convertToInteractive('df-2ef4002b-8cec-4c98-8f2b-d6778045d911')\"\n",
              "              title=\"Convert this dataframe to an interactive table.\"\n",
              "              style=\"display:none;\">\n",
              "        \n",
              "  <svg xmlns=\"http://www.w3.org/2000/svg\" height=\"24px\"viewBox=\"0 0 24 24\"\n",
              "       width=\"24px\">\n",
              "    <path d=\"M0 0h24v24H0V0z\" fill=\"none\"/>\n",
              "    <path d=\"M18.56 5.44l.94 2.06.94-2.06 2.06-.94-2.06-.94-.94-2.06-.94 2.06-2.06.94zm-11 1L8.5 8.5l.94-2.06 2.06-.94-2.06-.94L8.5 2.5l-.94 2.06-2.06.94zm10 10l.94 2.06.94-2.06 2.06-.94-2.06-.94-.94-2.06-.94 2.06-2.06.94z\"/><path d=\"M17.41 7.96l-1.37-1.37c-.4-.4-.92-.59-1.43-.59-.52 0-1.04.2-1.43.59L10.3 9.45l-7.72 7.72c-.78.78-.78 2.05 0 2.83L4 21.41c.39.39.9.59 1.41.59.51 0 1.02-.2 1.41-.59l7.78-7.78 2.81-2.81c.8-.78.8-2.07 0-2.86zM5.41 20L4 18.59l7.72-7.72 1.47 1.35L5.41 20z\"/>\n",
              "  </svg>\n",
              "      </button>\n",
              "      \n",
              "  <style>\n",
              "    .colab-df-container {\n",
              "      display:flex;\n",
              "      flex-wrap:wrap;\n",
              "      gap: 12px;\n",
              "    }\n",
              "\n",
              "    .colab-df-convert {\n",
              "      background-color: #E8F0FE;\n",
              "      border: none;\n",
              "      border-radius: 50%;\n",
              "      cursor: pointer;\n",
              "      display: none;\n",
              "      fill: #1967D2;\n",
              "      height: 32px;\n",
              "      padding: 0 0 0 0;\n",
              "      width: 32px;\n",
              "    }\n",
              "\n",
              "    .colab-df-convert:hover {\n",
              "      background-color: #E2EBFA;\n",
              "      box-shadow: 0px 1px 2px rgba(60, 64, 67, 0.3), 0px 1px 3px 1px rgba(60, 64, 67, 0.15);\n",
              "      fill: #174EA6;\n",
              "    }\n",
              "\n",
              "    [theme=dark] .colab-df-convert {\n",
              "      background-color: #3B4455;\n",
              "      fill: #D2E3FC;\n",
              "    }\n",
              "\n",
              "    [theme=dark] .colab-df-convert:hover {\n",
              "      background-color: #434B5C;\n",
              "      box-shadow: 0px 1px 3px 1px rgba(0, 0, 0, 0.15);\n",
              "      filter: drop-shadow(0px 1px 2px rgba(0, 0, 0, 0.3));\n",
              "      fill: #FFFFFF;\n",
              "    }\n",
              "  </style>\n",
              "\n",
              "      <script>\n",
              "        const buttonEl =\n",
              "          document.querySelector('#df-2ef4002b-8cec-4c98-8f2b-d6778045d911 button.colab-df-convert');\n",
              "        buttonEl.style.display =\n",
              "          google.colab.kernel.accessAllowed ? 'block' : 'none';\n",
              "\n",
              "        async function convertToInteractive(key) {\n",
              "          const element = document.querySelector('#df-2ef4002b-8cec-4c98-8f2b-d6778045d911');\n",
              "          const dataTable =\n",
              "            await google.colab.kernel.invokeFunction('convertToInteractive',\n",
              "                                                     [key], {});\n",
              "          if (!dataTable) return;\n",
              "\n",
              "          const docLinkHtml = 'Like what you see? Visit the ' +\n",
              "            '<a target=\"_blank\" href=https://colab.research.google.com/notebooks/data_table.ipynb>data table notebook</a>'\n",
              "            + ' to learn more about interactive tables.';\n",
              "          element.innerHTML = '';\n",
              "          dataTable['output_type'] = 'display_data';\n",
              "          await google.colab.output.renderOutput(dataTable, element);\n",
              "          const docLink = document.createElement('div');\n",
              "          docLink.innerHTML = docLinkHtml;\n",
              "          element.appendChild(docLink);\n",
              "        }\n",
              "      </script>\n",
              "    </div>\n",
              "  </div>\n",
              "  "
            ],
            "text/plain": [
              "   Establishment ID  ...             Location\n",
              "0             26656  ...   (39.1657, -77.226)\n",
              "1             33103  ...  (39.0819, -77.0777)\n",
              "2              1392  ...  (39.1644, -77.2292)\n",
              "3             33477  ...  (39.1275, -77.2089)\n",
              "4             24239  ...  (39.0956, -77.2071)\n",
              "\n",
              "[5 rows x 31 columns]"
            ]
          },
          "metadata": {},
          "execution_count": 5
        }
      ]
    },
    {
      "cell_type": "code",
      "source": [
        ""
      ],
      "metadata": {
        "id": "xaeXoLT5I6Vi"
      },
      "execution_count": null,
      "outputs": []
    },
    {
      "cell_type": "code",
      "source": [
        "food_inspection.info()"
      ],
      "metadata": {
        "colab": {
          "base_uri": "https://localhost:8080/"
        },
        "id": "_MlnI45eEYX6",
        "outputId": "439c8260-076f-49a6-e9e7-4babe0f06ee4"
      },
      "execution_count": 6,
      "outputs": [
        {
          "output_type": "stream",
          "name": "stdout",
          "text": [
            "<class 'pandas.core.frame.DataFrame'>\n",
            "RangeIndex: 12829 entries, 0 to 12828\n",
            "Data columns (total 31 columns):\n",
            " #   Column                                   Non-Null Count  Dtype  \n",
            "---  ------                                   --------------  -----  \n",
            " 0   Establishment ID                         12829 non-null  int64  \n",
            " 1   Name                                     12829 non-null  object \n",
            " 2   Address 1                                12829 non-null  object \n",
            " 3   Address 2                                969 non-null    object \n",
            " 4   City                                     12829 non-null  object \n",
            " 5   Zip                                      12829 non-null  int64  \n",
            " 6   Inspection Date                          12829 non-null  object \n",
            " 7   Inspection Results                       12829 non-null  object \n",
            " 8   Food from Approved Source (C)            12829 non-null  object \n",
            " 9   Food Protected from Contamination (C)    12829 non-null  object \n",
            " 10  Ill Workers Restricted (C)               12829 non-null  object \n",
            " 11  Proper Hand Washing (C)                  12829 non-null  object \n",
            " 12  Cooling Time and Temperature (C)         12829 non-null  object \n",
            " 13  Cold Holding Temperature (C)             12829 non-null  object \n",
            " 14  Hot Holding Temperature (C)              12829 non-null  object \n",
            " 15  Cooking Time and Temperature (C)         12829 non-null  object \n",
            " 16  Reheating Time and Temperature (C)       12829 non-null  object \n",
            " 17  Hot and Cold Running Water Provided (C)  12829 non-null  object \n",
            " 18  Proper Sewage Disposal (C)               12829 non-null  object \n",
            " 19  Toxic Substances & Pesticides            12829 non-null  object \n",
            " 20  Rodent and Insects                       12829 non-null  object \n",
            " 21  Nutritional Labeling                     12829 non-null  object \n",
            " 22  Trans Fat Ban                            12829 non-null  object \n",
            " 23  No-Smoking Sign Posted                   12829 non-null  object \n",
            " 24  Inspection Type                          12759 non-null  object \n",
            " 25  Owner                                    12819 non-null  object \n",
            " 26  Category                                 12204 non-null  object \n",
            " 27  Type                                     12829 non-null  object \n",
            " 28  Latitude                                 12806 non-null  float64\n",
            " 29  Longitude                                12806 non-null  float64\n",
            " 30  Location                                 12806 non-null  object \n",
            "dtypes: float64(2), int64(2), object(27)\n",
            "memory usage: 3.0+ MB\n"
          ]
        }
      ]
    },
    {
      "cell_type": "code",
      "source": [
        "food_inspection.shape"
      ],
      "metadata": {
        "colab": {
          "base_uri": "https://localhost:8080/"
        },
        "id": "yeTR3hD3Ep2Z",
        "outputId": "bc7674f1-cf5f-4647-e419-591812d4354c"
      },
      "execution_count": 7,
      "outputs": [
        {
          "output_type": "execute_result",
          "data": {
            "text/plain": [
              "(12829, 31)"
            ]
          },
          "metadata": {},
          "execution_count": 7
        }
      ]
    },
    {
      "cell_type": "markdown",
      "source": [
        "Which city have the most food inspections? \n"
      ],
      "metadata": {
        "id": "wMtQrXqgFHEx"
      }
    },
    {
      "cell_type": "code",
      "source": [
        "food_inspection[\"City\"].value_counts().head(5) \n"
      ],
      "metadata": {
        "colab": {
          "base_uri": "https://localhost:8080/"
        },
        "id": "XXiCSBXVFYSz",
        "outputId": "9de89d3f-ff92-4873-be54-8e6038bf5d7a"
      },
      "execution_count": 8,
      "outputs": [
        {
          "output_type": "execute_result",
          "data": {
            "text/plain": [
              "SILVER SPRING    2904\n",
              "GAITHERSBURG     2438\n",
              "ROCKVILLE        2263\n",
              "BETHESDA         1427\n",
              "GERMANTOWN       1125\n",
              "Name: City, dtype: int64"
            ]
          },
          "metadata": {},
          "execution_count": 8
        }
      ]
    },
    {
      "cell_type": "markdown",
      "source": [
        "What are the most common categories?\n"
      ],
      "metadata": {
        "id": "VO0xyY7mGfny"
      }
    },
    {
      "cell_type": "code",
      "source": [
        "food_inspection[\"Category\"].value_counts().head(5) "
      ],
      "metadata": {
        "colab": {
          "base_uri": "https://localhost:8080/"
        },
        "id": "l0VwaQn9GTE1",
        "outputId": "9d7e873b-fad2-45f6-c5d6-60f93ce604d2"
      },
      "execution_count": 9,
      "outputs": [
        {
          "output_type": "execute_result",
          "data": {
            "text/plain": [
              "Restaurant                   7578\n",
              "Market                       3192\n",
              "Carry Out                     289\n",
              "Public School- Elementary     256\n",
              "Caterer                       190\n",
              "Name: Category, dtype: int64"
            ]
          },
          "metadata": {},
          "execution_count": 9
        }
      ]
    }
  ]
}